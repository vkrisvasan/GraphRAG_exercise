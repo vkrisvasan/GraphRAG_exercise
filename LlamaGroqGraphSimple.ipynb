{
  "nbformat": 4,
  "nbformat_minor": 0,
  "metadata": {
    "colab": {
      "provenance": [],
      "authorship_tag": "ABX9TyMSD+ZGSzQxNRoCHXFTFPu/",
      "include_colab_link": true
    },
    "kernelspec": {
      "name": "python3",
      "display_name": "Python 3"
    },
    "language_info": {
      "name": "python"
    }
  },
  "cells": [
    {
      "cell_type": "markdown",
      "metadata": {
        "id": "view-in-github",
        "colab_type": "text"
      },
      "source": [
        "<a href=\"https://colab.research.google.com/github/vkrisvasan/GraphRAG_exercise/blob/main/LlamaGroqGraphSimple.ipynb\" target=\"_parent\"><img src=\"https://colab.research.google.com/assets/colab-badge.svg\" alt=\"Open In Colab\"/></a>"
      ]
    },
    {
      "cell_type": "code",
      "execution_count": 1,
      "metadata": {
        "id": "x4C1ZmA4RXsa",
        "colab": {
          "base_uri": "https://localhost:8080/"
        },
        "outputId": "50b4c878-cde3-4c96-a648-aa1843f7b2b6"
      },
      "outputs": [
        {
          "output_type": "stream",
          "name": "stdout",
          "text": [
            "\u001b[?25l   \u001b[90m━━━━━━━━━━━━━━━━━━━━━━━━━━━━━━━━━━━━━━━━\u001b[0m \u001b[32m0.0/106.5 kB\u001b[0m \u001b[31m?\u001b[0m eta \u001b[36m-:--:--\u001b[0m\r\u001b[2K   \u001b[91m━━━━━━━━━━━━━━━━━━━━━━━━━━━━━━\u001b[0m\u001b[91m╸\u001b[0m\u001b[90m━━━━━━━━━\u001b[0m \u001b[32m81.9/106.5 kB\u001b[0m \u001b[31m2.3 MB/s\u001b[0m eta \u001b[36m0:00:01\u001b[0m\r\u001b[2K   \u001b[90m━━━━━━━━━━━━━━━━━━━━━━━━━━━━━━━━━━━━━━━━\u001b[0m \u001b[32m106.5/106.5 kB\u001b[0m \u001b[31m1.8 MB/s\u001b[0m eta \u001b[36m0:00:00\u001b[0m\n",
            "\u001b[2K   \u001b[90m━━━━━━━━━━━━━━━━━━━━━━━━━━━━━━━━━━━━━━━━\u001b[0m \u001b[32m76.4/76.4 kB\u001b[0m \u001b[31m2.7 MB/s\u001b[0m eta \u001b[36m0:00:00\u001b[0m\n",
            "\u001b[2K   \u001b[90m━━━━━━━━━━━━━━━━━━━━━━━━━━━━━━━━━━━━━━━━\u001b[0m \u001b[32m77.9/77.9 kB\u001b[0m \u001b[31m2.7 MB/s\u001b[0m eta \u001b[36m0:00:00\u001b[0m\n",
            "\u001b[2K   \u001b[90m━━━━━━━━━━━━━━━━━━━━━━━━━━━━━━━━━━━━━━━━\u001b[0m \u001b[32m58.3/58.3 kB\u001b[0m \u001b[31m2.3 MB/s\u001b[0m eta \u001b[36m0:00:00\u001b[0m\n",
            "\u001b[?25h"
          ]
        }
      ],
      "source": [
        "# This notebook demonstrates how to use the Groq API to generate text\n",
        "#using a large language model.\n",
        "# It includes examples of how to set up a chat interface and\n",
        "#how to provide prompts to the model.\n",
        "\n",
        "#https://console.groq.com/keys - register and get GROQ_API_KEY key\n",
        "#https://console.groq.com/docs/libraries - Groq documentation\n",
        "#Open Google Colab, and go to Secrets.\n",
        "#Press \"+ Add new secret\" . Enter the Name HF_TOKEN and Value of the secret.\n",
        "#Once entered Name cannot be changed.\n",
        "#Toggle Notebook access.\n",
        "#Finally, for using it in the notebook, use the given code with the name HF_TOKEN\n",
        "\n",
        "!pip install groq -q"
      ]
    },
    {
      "cell_type": "code",
      "source": [
        "from groq import Groq"
      ],
      "metadata": {
        "id": "Y9ucd42hSXRU"
      },
      "execution_count": 2,
      "outputs": []
    },
    {
      "cell_type": "code",
      "source": [
        "import os\n",
        "import getpass\n",
        "credential_names = [\"GROQ_API_KEY\"]\n",
        "for credential in credential_names:\n",
        "  if credential not in os.environ:\n",
        "    os.environ[credential]=getpass.getpass(\"Provide your...\" + credential)"
      ],
      "metadata": {
        "id": "r2zNUi9HSyrj",
        "colab": {
          "base_uri": "https://localhost:8080/"
        },
        "outputId": "e389ca9b-847f-4d36-db67-f857159fb5ac"
      },
      "execution_count": 3,
      "outputs": [
        {
          "name": "stdout",
          "output_type": "stream",
          "text": [
            "Provide your...GROQ_API_KEY··········\n"
          ]
        }
      ]
    },
    {
      "cell_type": "code",
      "source": [
        "client = Groq()"
      ],
      "metadata": {
        "id": "JKsMoLCySiXC"
      },
      "execution_count": 4,
      "outputs": []
    },
    {
      "cell_type": "code",
      "source": [
        "def generate_content(prompt,conversation_history=[]):\n",
        "  # Append the current prompt to the conversation history\n",
        "  conversation_history.append({\"role\": \"user\", \"content\": prompt})\n",
        "\n",
        "  response = client.chat.completions.create(\n",
        "    model=\"llama-3.1-8b-instant\",\n",
        "    messages=[\n",
        "      {\"role\": \"system\", \"content\": systemInstruction},\n",
        "      *conversation_history  # Include the conversation history\n",
        "    ]\n",
        "  )\n",
        "  # Extract the chatbot's response and append it to the history\n",
        "  chatbot_response = response.choices[0].message.content\n",
        "  conversation_history.append({\"role\": \"assistant\", \"content\": chatbot_response})\n",
        "\n",
        "  return chatbot_response"
      ],
      "metadata": {
        "id": "9qTIA56mTT9G"
      },
      "execution_count": 12,
      "outputs": []
    },
    {
      "cell_type": "code",
      "source": [
        "default_instruction = \"You are a helpful assistant who gets the text and helps to build a graph database with company name, description of company, Revenue, net income, market cap\"\n",
        "systemInstruction = input(\"Enter the system Instruction to be provided to the model [ hit enter to pick up default instruction ]: \") or default_instruction\n",
        "print(\"System Instruction : \", systemInstruction)\n",
        "\n"
      ],
      "metadata": {
        "colab": {
          "base_uri": "https://localhost:8080/"
        },
        "id": "TO_r_Uqhzz9M",
        "outputId": "d5fdae07-31cd-47b8-c607-649b8d1afe02"
      },
      "execution_count": 15,
      "outputs": [
        {
          "output_type": "stream",
          "name": "stdout",
          "text": [
            "Enter the system Instruction to be provided to the model [ hit enter to pick up default instruction ]: \n",
            "System Instruction :  You are a helpful assistant who gets the text and helps to build a graph database with company name, description of company, Revenue, net income, market cap\n"
          ]
        }
      ]
    },
    {
      "cell_type": "code",
      "source": [
        "# Start the chatbot interaction loop\n",
        "conversation_history = []\n",
        "defaultUserPrompt = \"Elon Musk: Neuralink and the Future of Humanity | Lex Fridman Podcast\"\n",
        "userPrompt = input(\"Based on the system instruction, Enter the first user prompt to the model [ Hit enter to use default prompt]: \\n\" ) or defaultUserPrompt\n",
        "print(\"User Prompt : \",userPrompt)\n",
        "output = generate_content(userPrompt,conversation_history)\n",
        "print(output)\n",
        "\n",
        "while True:\n",
        "  user_input = input(\"\\n\\n## Your Prompt: ## [hit enter key to exit chat] \\n\")\n",
        "  if user_input.lower() == \"\":\n",
        "    break\n",
        "  response = generate_content(user_input,conversation_history)\n",
        "  print(\"Chatbot:\", response)"
      ],
      "metadata": {
        "colab": {
          "base_uri": "https://localhost:8080/"
        },
        "id": "7s98L3Bi1Jws",
        "outputId": "dd31592d-30e4-41be-f55c-f1d4e48326e8"
      },
      "execution_count": 16,
      "outputs": [
        {
          "name": "stdout",
          "output_type": "stream",
          "text": [
            "Based on the system instruction, Enter the first user prompt to the model [ Hit enter to use default prompt]: \n",
            "#1 Walmart Inc. (WMT) Revenue (TTM): $600.1 billion Net Income (TTM): $9.0 billion Market Cap: $391.5 billion 1-Year Trailing Total Return: 5.6% Exchange: New York Stock Exchange (NYSE) Walmart (WMT) engages in both the retail and wholesale business, selling an assortment of merchandise and services worldwide at stores and online at everyday low prices. Walmart sells a nearly unlimited array of merchandise, including apparel, housewares, small appliances, electronics, home improvement items, jewelry, games, household essentials, and pharmaceutical products. Walmart's services include product warranties, auto care, registries, and pharmaceutical services. 2   #2 Amazon.com Inc. (AMZN) Revenue (TTM): $502.2 billion Net Income (TTM): $11.3 billion Market Cap: $885.2 billion 1-Year Trailing Total Return: -49.1% Exchange: Nasdaq Amazon.com (AMZN) is an e-commerce retailer that sells a broad range of products and services worldwide, primarily through its websites. This includes merchandise and content that it purchases for resale from vendors and that is offered by third-party sellers. Amazon offers various subscription services and web services as well, including streaming entertainment and cloud computing. Additionally, the company manufactures and sells electronic devices, such as Kindle e-readers, Fire tablets, Fire TV, and the Echo hands-free speaker with digital personal assistant, Alexa. 3  Amazon sells groceries through its subsidiary, Whole Foods Market Inc. 4  #3 Costco Wholesale Corp. (COST) Revenue (TTM): $231.0 billion Net Income (TTM): $5.9 billion Market Cap: $205.1 billion 1-Year Trailing Total Return: -14.7% Exchange: Nasdaq Costco (COST) operates membership retail warehouses primarily in North America and in selected locations in Asia and Latin America. The company offers an assortment of merchandise, including packaged foods and other grocery items, automotive supplies, toys, hardware, sporting goods, jewelry, electronics, apparel, and health and beauty aids. The company also provides gas station and pharmacy services. 5  #4 The Home Depot Inc. (HD) Revenue (TTM): $157.3 billion Net Income (TTM): $17.1 billion Market Cap: $325.5 billion 1-Year Trailing Total Return: -16.2% Exchange: NYSE Home Depot (HD) operates hardware stores that specialize in the sale of building materials and home improvement products. Its stores are located primarily in North America. The company sells a wide assortment of building materials, and home improvement, lawn, and garden products. The company offers various services, including installation services, as well as tool and equipment rentals. 6  #5 JD.com Inc. (JD) Revenue (TTM): $156.9 billion Net Income (TTM): $254.3 million Market Cap: $91.0 billion 1-Year Trailing Total Return: -18.9% Exchange: Nasdaq JD.com (JD) is an e-commerce retailer headquartered in China that sells electronics products and general merchandise products, including audio and video products, and books. Additionally, the company provides an online marketplace where third-party vendors sell products to customers primarily through its websites and mobile apps. The company also focuses on logistics services, technology services, overseas business, insurance, and O2O commerce. 7  #6 The Kroger Co. (KR) Revenue (TTM): $146.5 billion Net Income (TTM): $2.4 billion Market Cap: $31.8 billion 1-Year Trailing Total Return: 3.3% Exchange: NYSE Kroger (KR) operates supermarkets, multi-department stores, jewelry stores, and convenience stores in the U.S. Its brands include Private Selection, Bakery Fresh Goodness, Home Chef, and Simple Truth. 8  The company manufactures and processes some of the foods that are sold in its supermarkets. 9  #7 Walgreens Boots Alliance Inc. (WBA) Revenue (TTM): $132.7 billion Net Income (TTM): $4.3 billion Market Cap: $33.4 billion 1-Year Trailing Total Return: -19.1% Exchange: Nasdaq Walgreens Boots Alliance (WBA) provides drugstore services primarily in the U.S. and Europe. Within the U.S., the company operates pharmacy-led retail businesses under the brand names Walgreens and Duane Reade. Internationally, the company operates retail stores that sell products under brand names including No7, Liz Earle Beauty Company, and Soap & Glory. Walgreens also operates a wholesale business, which supplies medicines, other healthcare products, and related services to doctors, health centers, and hospitals. 10 11 12  #8 Alibaba Holdings (BABA) Revenue (TTM): $131.4 billion Net Income (TTM): $2.3 billion Market Cap: $232.5 billion 1-Year Trailing Total Return: -28.6% Exchange: Nasdaq Alibaba Group Holding Limited (BABA) is a Chinese multinational conglomerate holding company specializing in e-commerce, retail, internet, and technology. Founded in 1999, it is one of the world's largest online and mobile commerce companies, as well as one of the largest internet and artificial intelligence companies. 13  Alibaba's mission is to make it easy to do business anywhere. The company's businesses include consumer-to-consumer retail website Taobao, business-to-consumer retail website Tmall, and the world's largest third-party online and mobile payment platform, Alipay. 14 15 16  Alibaba's initial public offering (IPO) in 2014 was the world's largest IPO ever at the time. 17  #9 Target Corp. (TGT) Revenue (TTM): $108.7 billion Net Income (TTM): $3.5 billion Market Cap: $65.5 billion 1-Year Trailing Total Return: -34.0% Exchange: NYSE Target (TGT) sells general merchandise online and at 1,954 stores across the U.S. 18  It offers a variety of curated and general merchandise as well as food assortments, including perishables, dry grocery, dairy, and frozen items at discounted prices. Some of its brands include Market Pantry, Pillowfort, Favorite Day, and Good & Gather. 19  #10 Lowe's Companies (LOW) Revenue (TTM): $96.0 billion Net Income (TTM): $6.7 billion Market Cap: $122.4 billion 1-Year Trailing Total Return: -16.5% Exchange: NYSE Lowe's Companies, Inc. (LOW) is a home improvement company that operates a chain of retail stores in the U.S. and Canada. The company was founded in 1921 and is based in Mooresville, North Carolina. 20 21  It is the second-largest home improvement retailer in the U.S. behind Home Depot. Lowe's offers a wide range of products for home improvement, including appliances, tools, hardware, lumber, and building materials. 22 Statista. \"Leading Home Improvement Retail Companies in 2021, by Sales.\"   The company also provides installation services for products such as roofing, siding, and flooring, as well as repair and maintenance services through its MyLowe's program. 23 24\n",
            "User Prompt :  #1 Walmart Inc. (WMT) Revenue (TTM): $600.1 billion Net Income (TTM): $9.0 billion Market Cap: $391.5 billion 1-Year Trailing Total Return: 5.6% Exchange: New York Stock Exchange (NYSE) Walmart (WMT) engages in both the retail and wholesale business, selling an assortment of merchandise and services worldwide at stores and online at everyday low prices. Walmart sells a nearly unlimited array of merchandise, including apparel, housewares, small appliances, electronics, home improvement items, jewelry, games, household essentials, and pharmaceutical products. Walmart's services include product warranties, auto care, registries, and pharmaceutical services. 2   #2 Amazon.com Inc. (AMZN) Revenue (TTM): $502.2 billion Net Income (TTM): $11.3 billion Market Cap: $885.2 billion 1-Year Trailing Total Return: -49.1% Exchange: Nasdaq Amazon.com (AMZN) is an e-commerce retailer that sells a broad range of products and services worldwide, primarily through its websites. This includes merchandise and content that it purchases for resale from vendors and that is offered by third-party sellers. Amazon offers various subscription services and web services as well, including streaming entertainment and cloud computing. Additionally, the company manufactures and sells electronic devices, such as Kindle e-readers, Fire tablets, Fire TV, and the Echo hands-free speaker with digital personal assistant, Alexa. 3  Amazon sells groceries through its subsidiary, Whole Foods Market Inc. 4  #3 Costco Wholesale Corp. (COST) Revenue (TTM): $231.0 billion Net Income (TTM): $5.9 billion Market Cap: $205.1 billion 1-Year Trailing Total Return: -14.7% Exchange: Nasdaq Costco (COST) operates membership retail warehouses primarily in North America and in selected locations in Asia and Latin America. The company offers an assortment of merchandise, including packaged foods and other grocery items, automotive supplies, toys, hardware, sporting goods, jewelry, electronics, apparel, and health and beauty aids. The company also provides gas station and pharmacy services. 5  #4 The Home Depot Inc. (HD) Revenue (TTM): $157.3 billion Net Income (TTM): $17.1 billion Market Cap: $325.5 billion 1-Year Trailing Total Return: -16.2% Exchange: NYSE Home Depot (HD) operates hardware stores that specialize in the sale of building materials and home improvement products. Its stores are located primarily in North America. The company sells a wide assortment of building materials, and home improvement, lawn, and garden products. The company offers various services, including installation services, as well as tool and equipment rentals. 6  #5 JD.com Inc. (JD) Revenue (TTM): $156.9 billion Net Income (TTM): $254.3 million Market Cap: $91.0 billion 1-Year Trailing Total Return: -18.9% Exchange: Nasdaq JD.com (JD) is an e-commerce retailer headquartered in China that sells electronics products and general merchandise products, including audio and video products, and books. Additionally, the company provides an online marketplace where third-party vendors sell products to customers primarily through its websites and mobile apps. The company also focuses on logistics services, technology services, overseas business, insurance, and O2O commerce. 7  #6 The Kroger Co. (KR) Revenue (TTM): $146.5 billion Net Income (TTM): $2.4 billion Market Cap: $31.8 billion 1-Year Trailing Total Return: 3.3% Exchange: NYSE Kroger (KR) operates supermarkets, multi-department stores, jewelry stores, and convenience stores in the U.S. Its brands include Private Selection, Bakery Fresh Goodness, Home Chef, and Simple Truth. 8  The company manufactures and processes some of the foods that are sold in its supermarkets. 9  #7 Walgreens Boots Alliance Inc. (WBA) Revenue (TTM): $132.7 billion Net Income (TTM): $4.3 billion Market Cap: $33.4 billion 1-Year Trailing Total Return: -19.1% Exchange: Nasdaq Walgreens Boots Alliance (WBA) provides drugstore services primarily in the U.S. and Europe. Within the U.S., the company operates pharmacy-led retail businesses under the brand names Walgreens and Duane Reade. Internationally, the company operates retail stores that sell products under brand names including No7, Liz Earle Beauty Company, and Soap & Glory. Walgreens also operates a wholesale business, which supplies medicines, other healthcare products, and related services to doctors, health centers, and hospitals. 10 11 12  #8 Alibaba Holdings (BABA) Revenue (TTM): $131.4 billion Net Income (TTM): $2.3 billion Market Cap: $232.5 billion 1-Year Trailing Total Return: -28.6% Exchange: Nasdaq Alibaba Group Holding Limited (BABA) is a Chinese multinational conglomerate holding company specializing in e-commerce, retail, internet, and technology. Founded in 1999, it is one of the world's largest online and mobile commerce companies, as well as one of the largest internet and artificial intelligence companies. 13  Alibaba's mission is to make it easy to do business anywhere. The company's businesses include consumer-to-consumer retail website Taobao, business-to-consumer retail website Tmall, and the world's largest third-party online and mobile payment platform, Alipay. 14 15 16  Alibaba's initial public offering (IPO) in 2014 was the world's largest IPO ever at the time. 17  #9 Target Corp. (TGT) Revenue (TTM): $108.7 billion Net Income (TTM): $3.5 billion Market Cap: $65.5 billion 1-Year Trailing Total Return: -34.0% Exchange: NYSE Target (TGT) sells general merchandise online and at 1,954 stores across the U.S. 18  It offers a variety of curated and general merchandise as well as food assortments, including perishables, dry grocery, dairy, and frozen items at discounted prices. Some of its brands include Market Pantry, Pillowfort, Favorite Day, and Good & Gather. 19  #10 Lowe's Companies (LOW) Revenue (TTM): $96.0 billion Net Income (TTM): $6.7 billion Market Cap: $122.4 billion 1-Year Trailing Total Return: -16.5% Exchange: NYSE Lowe's Companies, Inc. (LOW) is a home improvement company that operates a chain of retail stores in the U.S. and Canada. The company was founded in 1921 and is based in Mooresville, North Carolina. 20 21  It is the second-largest home improvement retailer in the U.S. behind Home Depot. Lowe's offers a wide range of products for home improvement, including appliances, tools, hardware, lumber, and building materials. 22 Statista. \"Leading Home Improvement Retail Companies in 2021, by Sales.\"   The company also provides installation services for products such as roofing, siding, and flooring, as well as repair and maintenance services through its MyLowe's program. 23 24\n",
            "To build a graph database with the provided information, we'll need to design a schema that captures the essential details of each company. We'll use a graph database like Neo4j.\n",
            "\n",
            "First, let's identify the key entities and relationships in the data:\n",
            "\n",
            "* **Company**: represents a single company\n",
            "* **Revenue**: represents the total revenue of a company\n",
            "* **Net Income**: represents the net income of a company\n",
            "* **Market Cap**: represents the market capitalization of a company\n",
            "* **Description**: provides a brief description of a company\n",
            "* **Subsidiary**: represents a subsidiary company\n",
            "\n",
            "Here's the Cypher query to create the schema and populate the graph database with the provided data:\n",
            "\n",
            "```cypher\n",
            "// Create the schema\n",
            "CREATE CONSTRAINT ON (c:Company) ASSERT c.name IS UNIQUE\n",
            "CREATE CONSTRAINT ON (r:Revenue) ASSERT r.company IS UNIQUE\n",
            "CREATE CONSTRAINT ON (n:NetIncome) ASSERT n.company IS UNIQUE\n",
            "CREATE CONSTRAINT ON (mc:MarketCap) ASSERT mc.company IS UNIQUE\n",
            "\n",
            "// Create the nodes\n",
            "CREATE (:Company {name: 'Walmart Inc.', description: 'Walmart sells a nearly unlimited array of merchandise, including apparel, housewares, small appliances, electronics, home improvement items, jewelry, games, household essentials, and pharmaceutical products.'})\n",
            "CREATE (:Company {name: 'Amazon.com Inc.', description: 'Amazon is an e-commerce retailer that sells a broad range of products and services worldwide, primarily through its websites.'})\n",
            "CREATE (:Company {name: 'Costco Wholesale Corp.', description: 'Costco operates membership retail warehouses primarily in North America and in selected locations in Asia and Latin America.'})\n",
            "CREATE (:Company {name: 'The Home Depot Inc.', description: 'Home Depot operates hardware stores that specialize in the sale of building materials and home improvement products.'})\n",
            "CREATE (:Company {name: 'JD.com Inc.', description: 'JD.com is an e-commerce retailer headquartered in China that sells electronics products and general merchandise products.'})\n",
            "CREATE (:Company {name: 'The Kroger Co.', description: 'Kroger operates supermarkets, multi-department stores, jewelry stores, and convenience stores in the U.S.'})\n",
            "CREATE (:Company {name: 'Walgreens Boots Alliance Inc.', description: 'Walgreens provides drugstore services primarily in the U.S. and Europe.'})\n",
            "CREATE (:Company {name: 'Alibaba Holdings', description: 'Alibaba is a Chinese multinational conglomerate holding company specializing in e-commerce, retail, internet, and technology.'})\n",
            "CREATE (:Company {name: 'Target Corp.', description: 'Target sells general merchandise online and at 1,954 stores across the U.S.'})\n",
            "CREATE (:Company {name: 'Lowe\\'s Companies', description: 'Lowe\\'s operates a chain of retail stores in the U.S. and Canada.'})\n",
            "\n",
            "// Create the properties\n",
            "MATCH (c:Company {name: 'Walmart Inc.'})\n",
            "CREATE (r:Revenue {value: 600.1e9, company: c})\n",
            "CREATE (n:NetIncome {value: 9.0e9, company: c})\n",
            "CREATE (mc:MarketCap {value: 391.5e9, company: c})\n",
            "\n",
            "MATCH (c:Company {name: 'Amazon.com Inc.'})\n",
            "CREATE (r:Revenue {value: 502.2e9, company: c})\n",
            "CREATE (n:NetIncome {value: 11.3e9, company: c})\n",
            "CREATE (mc:MarketCap {value: 885.2e9, company: c})\n",
            "\n",
            "MATCH (c:Company {name: 'Costco Wholesale Corp.'})\n",
            "CREATE (r:Revenue {value: 231.0e9, company: c})\n",
            "CREATE (n:NetIncome {value: 5.9e9, company: c})\n",
            "CREATE (mc:MarketCap {value: 205.1e9, company: c})\n",
            "\n",
            "MATCH (c:Company {name: 'The Home Depot Inc.'})\n",
            "CREATE (r:Revenue {value: 157.3e9, company: c})\n",
            "CREATE (n:NetIncome {value: 17.1e9, company: c})\n",
            "CREATE (mc:MarketCap {value: 325.5e9, company: c})\n",
            "\n",
            "MATCH (c:Company {name: 'JD.com Inc.'})\n",
            "CREATE (r:Revenue {value: 156.9e9, company: c})\n",
            "CREATE (n:NetIncome {value: 254.3e6, company: c})\n",
            "CREATE (mc:MarketCap {value: 91.0e9, company: c})\n",
            "\n",
            "MATCH (c:Company {name: 'The Kroger Co.'})\n",
            "CREATE (r:Revenue {value: 146.5e9, company: c})\n",
            "CREATE (n:NetIncome {value: 2.4e9, company: c})\n",
            "CREATE (mc:MarketCap {value: 31.8e9, company: c})\n",
            "\n",
            "MATCH (c:Company {name: 'Walgreens Boots Alliance Inc.'})\n",
            "CREATE (r:Revenue {value: 132.7e9, company: c})\n",
            "CREATE (n:NetIncome {value: 4.3e9, company: c})\n",
            "CREATE (mc:MarketCap {value: 33.4e9, company: c})\n",
            "\n",
            "MATCH (c:Company {name: 'Alibaba Holdings'})\n",
            "CREATE (r:Revenue {value: 131.4e9, company: c})\n",
            "CREATE (n:NetIncome {value: 2.3e9, company: c})\n",
            "CREATE (mc:MarketCap {value: 232.5e9, company: c})\n",
            "\n",
            "MATCH (c:Company {name: 'Target Corp.'})\n",
            "CREATE (r:Revenue {value: 108.7e9, company: c})\n",
            "CREATE (n:NetIncome {value: 3.5e9, company: c})\n",
            "CREATE (mc:MarketCap {value: 65.5e9, company: c})\n",
            "\n",
            "MATCH (c:Company {name: 'Lowe\\'s Companies'})\n",
            "CREATE (r:Revenue {value: 96.0e9, company: c})\n",
            "CREATE (n:NetIncome {value: 6.7e9, company: c})\n",
            "CREATE (mc:MarketCap {value: 122.4e9, company: c})\n",
            "```\n",
            "\n",
            "**Queries:**\n",
            "\n",
            "* To get the top 5 companies by revenue, you can use the following query:\n",
            "\n",
            "```cypher\n",
            "MATCH (c:Company)\n",
            "OPTIONAL MATCH (r:Revenue)\n",
            "WHERE r.value IS NOT NULL\n",
            "RETURN c.name, r.value ORDER BY r.value DESC LIMIT 5\n",
            "```\n",
            "\n",
            "* To get the companies that have a net income greater than $10 billion, you can use the following query:\n",
            "\n",
            "```cypher\n",
            "MATCH (c:Company)\n",
            "OPTIONAL MATCH (n:NetIncome)\n",
            "WHERE n.value > 10000e9 AND n.value IS NOT NULL\n",
            "RETURN c.name, n.value\n",
            "```\n",
            "\n",
            "* To get the market capitalization of the companies, you can use the following query:\n",
            "\n",
            "```cypher\n",
            "MATCH (c:Company)\n",
            "OPTIONAL MATCH (mc:MarketCap)\n",
            "RETURN c.name, mc.value\n",
            "```\n",
            "\n",
            "\n",
            "## Your Prompt: ## [hit enter key to exit chat] \n",
            "\n"
          ]
        }
      ]
    },
    {
      "cell_type": "code",
      "source": [
        "#simple Prompt and response below"
      ],
      "metadata": {
        "id": "37s64RDYBqMz"
      },
      "execution_count": null,
      "outputs": []
    },
    {
      "cell_type": "code",
      "source": [
        "def generate_content_simple(prompt):\n",
        "  reponse = client.chat.completions.create(\n",
        "    model=\"llama-3.1-8b-instant\",\n",
        "    messages=[\n",
        "      {\"role\": \"system\", \"content\": \"You are a helpful assistant. \"},\n",
        "      {\"role\": \"user\", \"content\": prompt}\n",
        "    ]\n",
        "  )\n",
        "  return reponse.choices[0].message.content"
      ],
      "metadata": {
        "id": "8izTBX8SrjNq"
      },
      "execution_count": 18,
      "outputs": []
    },
    {
      "cell_type": "code",
      "source": [
        "default_prompt = \"provide one use case for graph database technology in retail industry with detailed example with atleast 10 nodes customers, customer age, customer gender, customer social followers, products, product attribute, customer purchases,  purchase season, purchase mode, purchase rating\"\n",
        "prompt = input(\"\\nEnter the prompt to be provided to the model : \\n\") or default_prompt\n",
        "print(\"Prompt : \",prompt)\n",
        "output = generate_content_simple(prompt)\n",
        "print(output)"
      ],
      "metadata": {
        "id": "akXKryFtUFlj",
        "colab": {
          "base_uri": "https://localhost:8080/"
        },
        "outputId": "f0673972-f072-43ee-c99a-0997c1a36f45"
      },
      "execution_count": 23,
      "outputs": [
        {
          "output_type": "stream",
          "name": "stdout",
          "text": [
            "\n",
            "Enter the prompt to be provided to the model : \n",
            "\n",
            "Prompt :  provide one use case for graph database technology in retail industry with detailed example with atleast 10 nodes customers, customer age, customer gender, customer social followers, products, product attribute, customer purchases,  purchase season, purchase mode, purchase rating\n",
            "**Use Case: Customer Relationship Analysis and Personalized Marketing in Retail**\n",
            "\n",
            "In the retail industry, graph database technology can be utilized to create a powerful customer relationship analysis system. This system can help retailers understand their customers' behavior, preferences, and interactions, enabling them to create targeted marketing campaigns and improve customer satisfaction.\n",
            "\n",
            "**Example:**\n",
            "\n",
            "Let's consider a retail company called \"FashionBoutique\" that sells clothing and accessories. They have a graph database that stores information about their customers, products, and sales transactions. The database has the following nodes and relationships:\n",
            "\n",
            "**Nodes:**\n",
            "\n",
            "1. **Customer**\n",
            "\t* ID (unique identifier)\n",
            "\t* Name\n",
            "\t* Email\n",
            "\t* Age\n",
            "\t* Gender\n",
            "\t* Social Followers (number of followers on social media)\n",
            "2. **Product**\n",
            "\t* ID (unique identifier)\n",
            "\t* Name\n",
            "\t* Category (e.g., dress, top, bottom)\n",
            "\t* Attribute (e.g., color, size, brand)\n",
            "3. **Purchase**\n",
            "\t* ID (unique identifier)\n",
            "\t* Customer ID (foreign key referencing the Customer node)\n",
            "\t* Product ID (foreign key referencing the Product node)\n",
            "\t* Season (e.g., Spring, Summer, Autumn, Winter)\n",
            "\t* Mode (e.g., online, in-store, phone)\n",
            "\t* Rating (customer satisfaction rating on a scale of 1-5)\n",
            "4. **Social Media**\n",
            "\t* ID (unique identifier)\n",
            "\t* Customer ID (foreign key referencing the Customer node)\n",
            "\t* Social Media Platform (e.g., Facebook, Instagram, Twitter)\n",
            "\t* Followers (number of followers on the platform)\n",
            "\n",
            "**Relationships:**\n",
            "\n",
            "1. A Customer node is connected to a Purchase node via the \"bought\" relationship, indicating that the customer purchased a product.\n",
            "2. A Purchase node is connected to a Product node via the \"product\" relationship, indicating that the customer purchased the product.\n",
            "3. A Customer node is connected to a Social Media node via the \"follows\" relationship, indicating that the customer follows the social media platform.\n",
            "4. A Social Media node is connected to a Customer node via the \"belongs to\" relationship, indicating that the social media platform belongs to the customer.\n",
            "\n",
            "**Example Data:**\n",
            "\n",
            "| Customer ID | Name | Email | Age | Gender | Social Followers |\n",
            "| --- | --- | --- | --- | --- | --- |\n",
            "| 1 | John Smith | john.smith@example.com | 30 | Male | 100 |\n",
            "| 2 | Jane Doe | jane.doe@example.com | 25 | Female | 500 |\n",
            "\n",
            "| Product ID | Name | Category | Attribute |\n",
            "| --- | --- | --- | --- |\n",
            "| 1 | T-Shirt | Top | Color: Blue, Size: M |\n",
            "| 2 | Dress | Dress | Color: Red, Size: L |\n",
            "\n",
            "| Purchase ID | Customer ID | Product ID | Season | Mode | Rating |\n",
            "| --- | --- | --- | --- | --- | --- |\n",
            "| 1 | 1 | 1 | Spring | Online | 4 |\n",
            "| 2 | 2 | 2 | Summer | In-store | 5 |\n",
            "\n",
            "| Social Media ID | Customer ID | Social Media Platform | Followers |\n",
            "| --- | --- | --- | --- |\n",
            "| 1 | 1 | Facebook | 50 |\n",
            "| 2 | 2 | Instagram | 200 |\n",
            "\n",
            "**Query:**\n",
            "\n",
            "\"Find all customers who have purchased a product from the 'T-Shirt' category in the 'Spring' season, and who have a social media platform with more than 100 followers.\"\n",
            "\n",
            "**Cypher Query:**\n",
            "```graphql\n",
            "MATCH (c:Customer) -[:bought]-> (p:Purchase {season: \"Spring\", product: {category: \"Top\", name: \"T-Shirt\"}})\n",
            "-[:follows {platform: \"Facebook\"}]-(sm:SocialMedia)\n",
            "-[:belongs_to]-(c)\n",
            "RETURN c.name, COUNT(DISTINCT p) as num_purchases\n",
            "WHERE sm.followers > 100\n",
            "```\n",
            "**Result:**\n",
            "\n",
            "| Name | num_purchases |\n",
            "| --- | --- |\n",
            "| John Smith | 1 |\n",
            "\n",
            "This query uses the Cypher query language to traverse the graph database and find customers who have purchased a 'T-Shirt' product in the 'Spring' season. It also filters the results to include only customers who have a Facebook social media platform with more than 100 followers.\n",
            "\n",
            "**Insights and Recommendations:**\n",
            "\n",
            "1. John Smith is a customer who has purchased a 'T-Shirt' product in the 'Spring' season. He also has a Facebook social media platform with 50 followers. This information suggests that John is a relatively infrequent customer, and may benefit from targeted marketing campaigns to encourage repeat business.\n",
            "2. In the 'Social Media' node, we can see that Jane Doe has an Instagram social media platform with 200 followers. This suggests that she is an active social media user, and may be a good target for influencer marketing campaigns.\n",
            "3. By analyzing the 'Purchase' nodes, we can see that the majority of purchases were made in the 'Spring' and 'Summer' seasons. This suggests that the company's products are in high demand during these seasons, and may benefit from running seasonal marketing campaigns to capitalize on this trend.\n",
            "\n",
            "**Personalized Marketing Campaigns:**\n",
            "\n",
            "Based on the insights and recommendations above, the FashionBoutique company can design personalized marketing campaigns to target specific customer segments. For example:\n",
            "\n",
            "1. Target John Smith with a repeat customer discount offer, or a promo email with new products in the 'Spring' season.\n",
            "2. Partner with Jane Doe as an influencer to promote the company's products on her Instagram platform.\n",
            "3. Run a seasonal marketing campaign to capitalize on the high demand for products during the 'Spring' and 'Summer' seasons.\n",
            "\n",
            "By using graph database technology to analyze customer behavior and interactions, the FashionBoutique company can gain valuable insights into customer preferences and trends, and create targeted marketing campaigns to drive sales and customer loyalty.\n"
          ]
        }
      ]
    },
    {
      "cell_type": "code",
      "source": [
        "#TOP 10 RETAIL COMPANIES from internet\n",
        "#System instruction :You are a helpful assistant who gets the text and helps to build a graph database with company name, description of company, Revenue, net income, market cap\n",
        "#User prompt: below\n",
        "\"\"\"#1 Walmart Inc. (WMT)\n",
        "Revenue (TTM): $600.1 billion\n",
        "Net Income (TTM): $9.0 billion\n",
        "Market Cap: $391.5 billion\n",
        "1-Year Trailing Total Return: 5.6%\n",
        "Exchange: New York Stock Exchange (NYSE)\n",
        "Walmart (WMT) engages in both the retail and wholesale business, selling an assortment of merchandise and services worldwide at stores and online at everyday low prices. Walmart sells a nearly unlimited array of merchandise, including apparel, housewares, small appliances, electronics, home improvement items, jewelry, games, household essentials, and pharmaceutical products. Walmart's services include product warranties, auto care, registries, and pharmaceutical services.\n",
        "2\n",
        "\n",
        "\n",
        "#2 Amazon.com Inc. (AMZN)\n",
        "Revenue (TTM): $502.2 billion\n",
        "Net Income (TTM): $11.3 billion\n",
        "Market Cap: $885.2 billion\n",
        "1-Year Trailing Total Return: -49.1%\n",
        "Exchange: Nasdaq\n",
        "Amazon.com (AMZN) is an e-commerce retailer that sells a broad range of products and services worldwide, primarily through its websites. This includes merchandise and content that it purchases for resale from vendors and that is offered by third-party sellers. Amazon offers various subscription services and web services as well, including streaming entertainment and cloud computing. Additionally, the company manufactures and sells electronic devices, such as Kindle e-readers, Fire tablets, Fire TV, and the Echo hands-free speaker with digital personal assistant, Alexa.\n",
        "3\n",
        " Amazon sells groceries through its subsidiary, Whole Foods Market Inc.\n",
        "4\n",
        "\n",
        "#3 Costco Wholesale Corp. (COST)\n",
        "Revenue (TTM): $231.0 billion\n",
        "Net Income (TTM): $5.9 billion\n",
        "Market Cap: $205.1 billion\n",
        "1-Year Trailing Total Return: -14.7%\n",
        "Exchange: Nasdaq\n",
        "Costco (COST) operates membership retail warehouses primarily in North America and in selected locations in Asia and Latin America. The company offers an assortment of merchandise, including packaged foods and other grocery items, automotive supplies, toys, hardware, sporting goods, jewelry, electronics, apparel, and health and beauty aids. The company also provides gas station and pharmacy services.\n",
        "5\n",
        "\n",
        "#4 The Home Depot Inc. (HD)\n",
        "Revenue (TTM): $157.3 billion\n",
        "Net Income (TTM): $17.1 billion\n",
        "Market Cap: $325.5 billion\n",
        "1-Year Trailing Total Return: -16.2%\n",
        "Exchange: NYSE\n",
        "Home Depot (HD) operates hardware stores that specialize in the sale of building materials and home improvement products. Its stores are located primarily in North America. The company sells a wide assortment of building materials, and home improvement, lawn, and garden products. The company offers various services, including installation services, as well as tool and equipment rentals.\n",
        "6\n",
        "\n",
        "#5 JD.com Inc. (JD)\n",
        "Revenue (TTM): $156.9 billion\n",
        "Net Income (TTM): $254.3 million\n",
        "Market Cap: $91.0 billion\n",
        "1-Year Trailing Total Return: -18.9%\n",
        "Exchange: Nasdaq\n",
        "JD.com (JD) is an e-commerce retailer headquartered in China that sells electronics products and general merchandise products, including audio and video products, and books. Additionally, the company provides an online marketplace where third-party vendors sell products to customers primarily through its websites and mobile apps. The company also focuses on logistics services, technology services, overseas business, insurance, and O2O commerce.\n",
        "7\n",
        "\n",
        "#6 The Kroger Co. (KR)\n",
        "Revenue (TTM): $146.5 billion\n",
        "Net Income (TTM): $2.4 billion\n",
        "Market Cap: $31.8 billion\n",
        "1-Year Trailing Total Return: 3.3%\n",
        "Exchange: NYSE\n",
        "Kroger (KR) operates supermarkets, multi-department stores, jewelry stores, and convenience stores in the U.S. Its brands include Private Selection, Bakery Fresh Goodness, Home Chef, and Simple Truth.\n",
        "8\n",
        " The company manufactures and processes some of the foods that are sold in its supermarkets.\n",
        "9\n",
        "\n",
        "#7 Walgreens Boots Alliance Inc. (WBA)\n",
        "Revenue (TTM): $132.7 billion\n",
        "Net Income (TTM): $4.3 billion\n",
        "Market Cap: $33.4 billion\n",
        "1-Year Trailing Total Return: -19.1%\n",
        "Exchange: Nasdaq\n",
        "Walgreens Boots Alliance (WBA) provides drugstore services primarily in the U.S. and Europe. Within the U.S., the company operates pharmacy-led retail businesses under the brand names Walgreens and Duane Reade. Internationally, the company operates retail stores that sell products under brand names including No7, Liz Earle Beauty Company, and Soap & Glory. Walgreens also operates a wholesale business, which supplies medicines, other healthcare products, and related services to doctors, health centers, and hospitals.\n",
        "10\n",
        "11\n",
        "12\n",
        "\n",
        "#8 Alibaba Holdings (BABA)\n",
        "Revenue (TTM): $131.4 billion\n",
        "Net Income (TTM): $2.3 billion\n",
        "Market Cap: $232.5 billion\n",
        "1-Year Trailing Total Return: -28.6%\n",
        "Exchange: Nasdaq\n",
        "Alibaba Group Holding Limited (BABA) is a Chinese multinational conglomerate holding company specializing in e-commerce, retail, internet, and technology. Founded in 1999, it is one of the world's largest online and mobile commerce companies, as well as one of the largest internet and artificial intelligence companies.\n",
        "13\n",
        " Alibaba's mission is to make it easy to do business anywhere. The company's businesses include consumer-to-consumer retail website Taobao, business-to-consumer retail website Tmall, and the world's largest third-party online and mobile payment platform, Alipay.\n",
        "14\n",
        "15\n",
        "16\n",
        " Alibaba's initial public offering (IPO) in 2014 was the world's largest IPO ever at the time.\n",
        "17\n",
        "\n",
        "#9 Target Corp. (TGT)\n",
        "Revenue (TTM): $108.7 billion\n",
        "Net Income (TTM): $3.5 billion\n",
        "Market Cap: $65.5 billion\n",
        "1-Year Trailing Total Return: -34.0%\n",
        "Exchange: NYSE\n",
        "Target (TGT) sells general merchandise online and at 1,954 stores across the U.S.\n",
        "18\n",
        " It offers a variety of curated and general merchandise as well as food assortments, including perishables, dry grocery, dairy, and frozen items at discounted prices. Some of its brands include Market Pantry, Pillowfort, Favorite Day, and Good & Gather.\n",
        "19\n",
        "\n",
        "#10 Lowe's Companies (LOW)\n",
        "Revenue (TTM): $96.0 billion\n",
        "Net Income (TTM): $6.7 billion\n",
        "Market Cap: $122.4 billion\n",
        "1-Year Trailing Total Return: -16.5%\n",
        "Exchange: NYSE\n",
        "Lowe's Companies, Inc. (LOW) is a home improvement company that operates a chain of retail stores in the U.S. and Canada. The company was founded in 1921 and is based in Mooresville, North Carolina.\n",
        "20\n",
        "21\n",
        " It is the second-largest home improvement retailer in the U.S. behind Home Depot. Lowe's offers a wide range of products for home improvement, including appliances, tools, hardware, lumber, and building materials.\n",
        "22\n",
        "Statista. \"Leading Home Improvement Retail Companies in 2021, by Sales.\"\n",
        "\n",
        " The company also provides installation services for products such as roofing, siding, and flooring, as well as repair and maintenance services through its MyLowe's program.\n",
        "23\n",
        "24\n",
        "\"\"\""
      ],
      "metadata": {
        "id": "40kKbxii9ioF"
      },
      "execution_count": null,
      "outputs": []
    },
    {
      "cell_type": "code",
      "source": [
        "#provide one use case for graph database technology in retail industry with detailed example with atleast 10 nodes customers, customer age, customer gender, customer social followers, products, product attribute, customer purchases,  purchase season, purchase mode, purchase rating\"\n",
        "\n"
      ],
      "metadata": {
        "id": "xQSFfGFv94Vu"
      },
      "execution_count": null,
      "outputs": []
    }
  ]
}